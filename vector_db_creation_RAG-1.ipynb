{
 "cells": [
  {
   "cell_type": "code",
   "execution_count": 1,
   "id": "74c1766f-ef00-4dd1-8e14-9d383a2e9583",
   "metadata": {},
   "outputs": [
    {
     "name": "stdout",
     "output_type": "stream",
     "text": [
      "Requirement already satisfied: together in c:\\users\\hp\\anaconda3\\lib\\site-packages (1.4.1)\n",
      "Requirement already satisfied: aiohttp<4.0.0,>=3.9.3 in c:\\users\\hp\\anaconda3\\lib\\site-packages (from together) (3.10.5)\n",
      "Requirement already satisfied: click<9.0.0,>=8.1.7 in c:\\users\\hp\\anaconda3\\lib\\site-packages (from together) (8.1.7)\n",
      "Requirement already satisfied: eval-type-backport<0.3.0,>=0.1.3 in c:\\users\\hp\\anaconda3\\lib\\site-packages (from together) (0.2.2)\n",
      "Requirement already satisfied: filelock<4.0.0,>=3.13.1 in c:\\users\\hp\\anaconda3\\lib\\site-packages (from together) (3.13.1)\n",
      "Requirement already satisfied: numpy>=1.26.0 in c:\\users\\hp\\anaconda3\\lib\\site-packages (from together) (1.26.4)\n",
      "Requirement already satisfied: pillow<12.0.0,>=11.1.0 in c:\\users\\hp\\anaconda3\\lib\\site-packages (from together) (11.1.0)\n",
      "Requirement already satisfied: pyarrow>=10.0.1 in c:\\users\\hp\\anaconda3\\lib\\site-packages (from together) (16.1.0)\n",
      "Requirement already satisfied: pydantic<3.0.0,>=2.6.3 in c:\\users\\hp\\anaconda3\\lib\\site-packages (from together) (2.8.2)\n",
      "Requirement already satisfied: requests<3.0.0,>=2.31.0 in c:\\users\\hp\\anaconda3\\lib\\site-packages (from together) (2.32.3)\n",
      "Requirement already satisfied: rich<14.0.0,>=13.8.1 in c:\\users\\hp\\anaconda3\\lib\\site-packages (from together) (13.9.4)\n",
      "Requirement already satisfied: tabulate<0.10.0,>=0.9.0 in c:\\users\\hp\\anaconda3\\lib\\site-packages (from together) (0.9.0)\n",
      "Requirement already satisfied: tqdm<5.0.0,>=4.66.2 in c:\\users\\hp\\anaconda3\\lib\\site-packages (from together) (4.66.5)\n",
      "Requirement already satisfied: typer<0.16,>=0.9 in c:\\users\\hp\\anaconda3\\lib\\site-packages (from together) (0.15.1)\n",
      "Requirement already satisfied: aiohappyeyeballs>=2.3.0 in c:\\users\\hp\\anaconda3\\lib\\site-packages (from aiohttp<4.0.0,>=3.9.3->together) (2.4.0)\n",
      "Requirement already satisfied: aiosignal>=1.1.2 in c:\\users\\hp\\anaconda3\\lib\\site-packages (from aiohttp<4.0.0,>=3.9.3->together) (1.2.0)\n",
      "Requirement already satisfied: attrs>=17.3.0 in c:\\users\\hp\\anaconda3\\lib\\site-packages (from aiohttp<4.0.0,>=3.9.3->together) (23.1.0)\n",
      "Requirement already satisfied: frozenlist>=1.1.1 in c:\\users\\hp\\anaconda3\\lib\\site-packages (from aiohttp<4.0.0,>=3.9.3->together) (1.4.0)\n",
      "Requirement already satisfied: multidict<7.0,>=4.5 in c:\\users\\hp\\anaconda3\\lib\\site-packages (from aiohttp<4.0.0,>=3.9.3->together) (6.0.4)\n",
      "Requirement already satisfied: yarl<2.0,>=1.0 in c:\\users\\hp\\anaconda3\\lib\\site-packages (from aiohttp<4.0.0,>=3.9.3->together) (1.11.0)\n",
      "Requirement already satisfied: colorama in c:\\users\\hp\\anaconda3\\lib\\site-packages (from click<9.0.0,>=8.1.7->together) (0.4.6)\n",
      "Requirement already satisfied: annotated-types>=0.4.0 in c:\\users\\hp\\anaconda3\\lib\\site-packages (from pydantic<3.0.0,>=2.6.3->together) (0.6.0)\n",
      "Requirement already satisfied: pydantic-core==2.20.1 in c:\\users\\hp\\anaconda3\\lib\\site-packages (from pydantic<3.0.0,>=2.6.3->together) (2.20.1)\n",
      "Requirement already satisfied: typing-extensions>=4.6.1 in c:\\users\\hp\\anaconda3\\lib\\site-packages (from pydantic<3.0.0,>=2.6.3->together) (4.11.0)\n",
      "Requirement already satisfied: charset-normalizer<4,>=2 in c:\\users\\hp\\anaconda3\\lib\\site-packages (from requests<3.0.0,>=2.31.0->together) (3.3.2)\n",
      "Requirement already satisfied: idna<4,>=2.5 in c:\\users\\hp\\anaconda3\\lib\\site-packages (from requests<3.0.0,>=2.31.0->together) (3.7)\n",
      "Requirement already satisfied: urllib3<3,>=1.21.1 in c:\\users\\hp\\anaconda3\\lib\\site-packages (from requests<3.0.0,>=2.31.0->together) (2.2.3)\n",
      "Requirement already satisfied: certifi>=2017.4.17 in c:\\users\\hp\\anaconda3\\lib\\site-packages (from requests<3.0.0,>=2.31.0->together) (2024.8.30)\n",
      "Requirement already satisfied: markdown-it-py>=2.2.0 in c:\\users\\hp\\anaconda3\\lib\\site-packages (from rich<14.0.0,>=13.8.1->together) (2.2.0)\n",
      "Requirement already satisfied: pygments<3.0.0,>=2.13.0 in c:\\users\\hp\\anaconda3\\lib\\site-packages (from rich<14.0.0,>=13.8.1->together) (2.15.1)\n",
      "Requirement already satisfied: shellingham>=1.3.0 in c:\\users\\hp\\anaconda3\\lib\\site-packages (from typer<0.16,>=0.9->together) (1.5.4)\n",
      "Requirement already satisfied: mdurl~=0.1 in c:\\users\\hp\\anaconda3\\lib\\site-packages (from markdown-it-py>=2.2.0->rich<14.0.0,>=13.8.1->together) (0.1.0)\n",
      "Note: you may need to restart the kernel to use updated packages.\n"
     ]
    }
   ],
   "source": [
    "pip install together"
   ]
  },
  {
   "cell_type": "code",
   "execution_count": 2,
   "id": "e4d25961-6a00-47ef-ab2c-b7e203baf31f",
   "metadata": {
    "scrolled": true
   },
   "outputs": [
    {
     "name": "stdout",
     "output_type": "stream",
     "text": [
      "Requirement already satisfied: langchain_together in c:\\users\\hp\\anaconda3\\lib\\site-packages (0.3.0)\n",
      "Requirement already satisfied: aiohttp<4.0.0,>=3.9.1 in c:\\users\\hp\\anaconda3\\lib\\site-packages (from langchain_together) (3.10.5)\n",
      "Requirement already satisfied: langchain-core<0.4.0,>=0.3.29 in c:\\users\\hp\\anaconda3\\lib\\site-packages (from langchain_together) (0.3.40)\n",
      "Requirement already satisfied: langchain-openai<0.4,>=0.3 in c:\\users\\hp\\anaconda3\\lib\\site-packages (from langchain_together) (0.3.7)\n",
      "Requirement already satisfied: requests<3,>=2 in c:\\users\\hp\\anaconda3\\lib\\site-packages (from langchain_together) (2.32.3)\n",
      "Requirement already satisfied: aiohappyeyeballs>=2.3.0 in c:\\users\\hp\\anaconda3\\lib\\site-packages (from aiohttp<4.0.0,>=3.9.1->langchain_together) (2.4.0)\n",
      "Requirement already satisfied: aiosignal>=1.1.2 in c:\\users\\hp\\anaconda3\\lib\\site-packages (from aiohttp<4.0.0,>=3.9.1->langchain_together) (1.2.0)\n",
      "Requirement already satisfied: attrs>=17.3.0 in c:\\users\\hp\\anaconda3\\lib\\site-packages (from aiohttp<4.0.0,>=3.9.1->langchain_together) (23.1.0)\n",
      "Requirement already satisfied: frozenlist>=1.1.1 in c:\\users\\hp\\anaconda3\\lib\\site-packages (from aiohttp<4.0.0,>=3.9.1->langchain_together) (1.4.0)\n",
      "Requirement already satisfied: multidict<7.0,>=4.5 in c:\\users\\hp\\anaconda3\\lib\\site-packages (from aiohttp<4.0.0,>=3.9.1->langchain_together) (6.0.4)\n",
      "Requirement already satisfied: yarl<2.0,>=1.0 in c:\\users\\hp\\anaconda3\\lib\\site-packages (from aiohttp<4.0.0,>=3.9.1->langchain_together) (1.11.0)\n",
      "Requirement already satisfied: langsmith<0.4,>=0.1.125 in c:\\users\\hp\\anaconda3\\lib\\site-packages (from langchain-core<0.4.0,>=0.3.29->langchain_together) (0.3.11)\n",
      "Requirement already satisfied: tenacity!=8.4.0,<10.0.0,>=8.1.0 in c:\\users\\hp\\anaconda3\\lib\\site-packages (from langchain-core<0.4.0,>=0.3.29->langchain_together) (8.2.3)\n",
      "Requirement already satisfied: jsonpatch<2.0,>=1.33 in c:\\users\\hp\\anaconda3\\lib\\site-packages (from langchain-core<0.4.0,>=0.3.29->langchain_together) (1.33)\n",
      "Requirement already satisfied: PyYAML>=5.3 in c:\\users\\hp\\anaconda3\\lib\\site-packages (from langchain-core<0.4.0,>=0.3.29->langchain_together) (6.0.1)\n",
      "Requirement already satisfied: packaging<25,>=23.2 in c:\\users\\hp\\anaconda3\\lib\\site-packages (from langchain-core<0.4.0,>=0.3.29->langchain_together) (24.1)\n",
      "Requirement already satisfied: typing-extensions>=4.7 in c:\\users\\hp\\anaconda3\\lib\\site-packages (from langchain-core<0.4.0,>=0.3.29->langchain_together) (4.11.0)\n",
      "Requirement already satisfied: pydantic<3.0.0,>=2.7.4 in c:\\users\\hp\\anaconda3\\lib\\site-packages (from langchain-core<0.4.0,>=0.3.29->langchain_together) (2.8.2)\n",
      "Requirement already satisfied: openai<2.0.0,>=1.58.1 in c:\\users\\hp\\anaconda3\\lib\\site-packages (from langchain-openai<0.4,>=0.3->langchain_together) (1.64.0)\n",
      "Requirement already satisfied: tiktoken<1,>=0.7 in c:\\users\\hp\\anaconda3\\lib\\site-packages (from langchain-openai<0.4,>=0.3->langchain_together) (0.9.0)\n",
      "Requirement already satisfied: charset-normalizer<4,>=2 in c:\\users\\hp\\anaconda3\\lib\\site-packages (from requests<3,>=2->langchain_together) (3.3.2)\n",
      "Requirement already satisfied: idna<4,>=2.5 in c:\\users\\hp\\anaconda3\\lib\\site-packages (from requests<3,>=2->langchain_together) (3.7)\n",
      "Requirement already satisfied: urllib3<3,>=1.21.1 in c:\\users\\hp\\anaconda3\\lib\\site-packages (from requests<3,>=2->langchain_together) (2.2.3)\n",
      "Requirement already satisfied: certifi>=2017.4.17 in c:\\users\\hp\\anaconda3\\lib\\site-packages (from requests<3,>=2->langchain_together) (2024.8.30)\n",
      "Requirement already satisfied: jsonpointer>=1.9 in c:\\users\\hp\\anaconda3\\lib\\site-packages (from jsonpatch<2.0,>=1.33->langchain-core<0.4.0,>=0.3.29->langchain_together) (2.1)\n",
      "Requirement already satisfied: httpx<1,>=0.23.0 in c:\\users\\hp\\anaconda3\\lib\\site-packages (from langsmith<0.4,>=0.1.125->langchain-core<0.4.0,>=0.3.29->langchain_together) (0.27.0)\n",
      "Requirement already satisfied: orjson<4.0.0,>=3.9.14 in c:\\users\\hp\\anaconda3\\lib\\site-packages (from langsmith<0.4,>=0.1.125->langchain-core<0.4.0,>=0.3.29->langchain_together) (3.10.15)\n",
      "Requirement already satisfied: requests-toolbelt<2.0.0,>=1.0.0 in c:\\users\\hp\\anaconda3\\lib\\site-packages (from langsmith<0.4,>=0.1.125->langchain-core<0.4.0,>=0.3.29->langchain_together) (1.0.0)\n",
      "Requirement already satisfied: zstandard<0.24.0,>=0.23.0 in c:\\users\\hp\\anaconda3\\lib\\site-packages (from langsmith<0.4,>=0.1.125->langchain-core<0.4.0,>=0.3.29->langchain_together) (0.23.0)\n",
      "Requirement already satisfied: anyio<5,>=3.5.0 in c:\\users\\hp\\anaconda3\\lib\\site-packages (from openai<2.0.0,>=1.58.1->langchain-openai<0.4,>=0.3->langchain_together) (4.2.0)\n",
      "Requirement already satisfied: distro<2,>=1.7.0 in c:\\users\\hp\\anaconda3\\lib\\site-packages (from openai<2.0.0,>=1.58.1->langchain-openai<0.4,>=0.3->langchain_together) (1.9.0)\n",
      "Requirement already satisfied: jiter<1,>=0.4.0 in c:\\users\\hp\\anaconda3\\lib\\site-packages (from openai<2.0.0,>=1.58.1->langchain-openai<0.4,>=0.3->langchain_together) (0.8.2)\n",
      "Requirement already satisfied: sniffio in c:\\users\\hp\\anaconda3\\lib\\site-packages (from openai<2.0.0,>=1.58.1->langchain-openai<0.4,>=0.3->langchain_together) (1.3.0)\n",
      "Requirement already satisfied: tqdm>4 in c:\\users\\hp\\anaconda3\\lib\\site-packages (from openai<2.0.0,>=1.58.1->langchain-openai<0.4,>=0.3->langchain_together) (4.66.5)\n",
      "Requirement already satisfied: annotated-types>=0.4.0 in c:\\users\\hp\\anaconda3\\lib\\site-packages (from pydantic<3.0.0,>=2.7.4->langchain-core<0.4.0,>=0.3.29->langchain_together) (0.6.0)\n",
      "Requirement already satisfied: pydantic-core==2.20.1 in c:\\users\\hp\\anaconda3\\lib\\site-packages (from pydantic<3.0.0,>=2.7.4->langchain-core<0.4.0,>=0.3.29->langchain_together) (2.20.1)\n",
      "Requirement already satisfied: regex>=2022.1.18 in c:\\users\\hp\\anaconda3\\lib\\site-packages (from tiktoken<1,>=0.7->langchain-openai<0.4,>=0.3->langchain_together) (2024.9.11)\n",
      "Requirement already satisfied: httpcore==1.* in c:\\users\\hp\\anaconda3\\lib\\site-packages (from httpx<1,>=0.23.0->langsmith<0.4,>=0.1.125->langchain-core<0.4.0,>=0.3.29->langchain_together) (1.0.2)\n",
      "Requirement already satisfied: h11<0.15,>=0.13 in c:\\users\\hp\\anaconda3\\lib\\site-packages (from httpcore==1.*->httpx<1,>=0.23.0->langsmith<0.4,>=0.1.125->langchain-core<0.4.0,>=0.3.29->langchain_together) (0.14.0)\n",
      "Requirement already satisfied: colorama in c:\\users\\hp\\anaconda3\\lib\\site-packages (from tqdm>4->openai<2.0.0,>=1.58.1->langchain-openai<0.4,>=0.3->langchain_together) (0.4.6)\n",
      "Note: you may need to restart the kernel to use updated packages.\n"
     ]
    }
   ],
   "source": [
    "pip install langchain_together"
   ]
  },
  {
   "cell_type": "code",
   "execution_count": 3,
   "id": "13d2180d-61a7-4213-b703-012cc7d0c770",
   "metadata": {},
   "outputs": [],
   "source": [
    "from langchain_together import TogetherEmbeddings\n",
    "import pandas as pd\n",
    "import numpy as np"
   ]
  },
  {
   "cell_type": "code",
   "execution_count": 4,
   "id": "9a45720b-685c-46f1-be12-0dfea660c036",
   "metadata": {},
   "outputs": [],
   "source": [
    "df = pd.read_excel(r\"D:\\Srujan\\Projects\\Infosys\\reviews_data.xlsx\")"
   ]
  },
  {
   "cell_type": "code",
   "execution_count": 5,
   "id": "36c33ea1-46fb-4272-960e-697b2dac017f",
   "metadata": {},
   "outputs": [
    {
     "data": {
      "text/html": [
       "<div>\n",
       "<style scoped>\n",
       "    .dataframe tbody tr th:only-of-type {\n",
       "        vertical-align: middle;\n",
       "    }\n",
       "\n",
       "    .dataframe tbody tr th {\n",
       "        vertical-align: top;\n",
       "    }\n",
       "\n",
       "    .dataframe thead th {\n",
       "        text-align: right;\n",
       "    }\n",
       "</style>\n",
       "<table border=\"1\" class=\"dataframe\">\n",
       "  <thead>\n",
       "    <tr style=\"text-align: right;\">\n",
       "      <th></th>\n",
       "      <th>review_id</th>\n",
       "      <th>customer_id</th>\n",
       "      <th>review_date</th>\n",
       "      <th>Review</th>\n",
       "      <th>Rating</th>\n",
       "      <th>review_date_numeric</th>\n",
       "    </tr>\n",
       "  </thead>\n",
       "  <tbody>\n",
       "    <tr>\n",
       "      <th>0</th>\n",
       "      <td>11722</td>\n",
       "      <td>5380</td>\n",
       "      <td>2024-11-04</td>\n",
       "      <td>The room provided at first was a great disapp...</td>\n",
       "      <td>6.7</td>\n",
       "      <td>20241104</td>\n",
       "    </tr>\n",
       "    <tr>\n",
       "      <th>1</th>\n",
       "      <td>8604</td>\n",
       "      <td>8832</td>\n",
       "      <td>2024-03-01</td>\n",
       "      <td>The room wasn t so large for a Deluxe King bu...</td>\n",
       "      <td>9.6</td>\n",
       "      <td>20240301</td>\n",
       "    </tr>\n",
       "    <tr>\n",
       "      <th>2</th>\n",
       "      <td>3923</td>\n",
       "      <td>7301</td>\n",
       "      <td>2023-09-04</td>\n",
       "      <td>on arrival we had to wait over an hour after ...</td>\n",
       "      <td>7.1</td>\n",
       "      <td>20230904</td>\n",
       "    </tr>\n",
       "    <tr>\n",
       "      <th>3</th>\n",
       "      <td>10050</td>\n",
       "      <td>3968</td>\n",
       "      <td>2023-09-02</td>\n",
       "      <td>The room reminded me of a dorm room furnished...</td>\n",
       "      <td>7.9</td>\n",
       "      <td>20230902</td>\n",
       "    </tr>\n",
       "    <tr>\n",
       "      <th>4</th>\n",
       "      <td>2077</td>\n",
       "      <td>6085</td>\n",
       "      <td>2024-05-17</td>\n",
       "      <td>The room was very small the AC didn t work at...</td>\n",
       "      <td>8.8</td>\n",
       "      <td>20240517</td>\n",
       "    </tr>\n",
       "    <tr>\n",
       "      <th>...</th>\n",
       "      <td>...</td>\n",
       "      <td>...</td>\n",
       "      <td>...</td>\n",
       "      <td>...</td>\n",
       "      <td>...</td>\n",
       "      <td>...</td>\n",
       "    </tr>\n",
       "    <tr>\n",
       "      <th>8377</th>\n",
       "      <td>5928</td>\n",
       "      <td>1546</td>\n",
       "      <td>2023-04-30</td>\n",
       "      <td>Bathroom and toilet are small but spotlessly ...</td>\n",
       "      <td>10.0</td>\n",
       "      <td>20230430</td>\n",
       "    </tr>\n",
       "    <tr>\n",
       "      <th>8378</th>\n",
       "      <td>7439</td>\n",
       "      <td>4787</td>\n",
       "      <td>2024-01-30</td>\n",
       "      <td>Heating system in the room instructions on ho...</td>\n",
       "      <td>9.2</td>\n",
       "      <td>20240130</td>\n",
       "    </tr>\n",
       "    <tr>\n",
       "      <th>8379</th>\n",
       "      <td>339</td>\n",
       "      <td>4936</td>\n",
       "      <td>2024-10-11</td>\n",
       "      <td>Entering the hotel involved crossing an open ...</td>\n",
       "      <td>9.2</td>\n",
       "      <td>20241011</td>\n",
       "    </tr>\n",
       "    <tr>\n",
       "      <th>8380</th>\n",
       "      <td>6816</td>\n",
       "      <td>8542</td>\n",
       "      <td>2024-09-01</td>\n",
       "      <td>The hotel is very old Room are out of date an...</td>\n",
       "      <td>4.2</td>\n",
       "      <td>20240901</td>\n",
       "    </tr>\n",
       "    <tr>\n",
       "      <th>8381</th>\n",
       "      <td>3429</td>\n",
       "      <td>1971</td>\n",
       "      <td>2024-10-15</td>\n",
       "      <td>The staff members were very friendly and hel...</td>\n",
       "      <td>10.0</td>\n",
       "      <td>20241015</td>\n",
       "    </tr>\n",
       "  </tbody>\n",
       "</table>\n",
       "<p>8382 rows × 6 columns</p>\n",
       "</div>"
      ],
      "text/plain": [
       "      review_id  customer_id review_date  \\\n",
       "0         11722         5380  2024-11-04   \n",
       "1          8604         8832  2024-03-01   \n",
       "2          3923         7301  2023-09-04   \n",
       "3         10050         3968  2023-09-02   \n",
       "4          2077         6085  2024-05-17   \n",
       "...         ...          ...         ...   \n",
       "8377       5928         1546  2023-04-30   \n",
       "8378       7439         4787  2024-01-30   \n",
       "8379        339         4936  2024-10-11   \n",
       "8380       6816         8542  2024-09-01   \n",
       "8381       3429         1971  2024-10-15   \n",
       "\n",
       "                                                 Review  Rating  \\\n",
       "0      The room provided at first was a great disapp...     6.7   \n",
       "1      The room wasn t so large for a Deluxe King bu...     9.6   \n",
       "2      on arrival we had to wait over an hour after ...     7.1   \n",
       "3      The room reminded me of a dorm room furnished...     7.9   \n",
       "4      The room was very small the AC didn t work at...     8.8   \n",
       "...                                                 ...     ...   \n",
       "8377   Bathroom and toilet are small but spotlessly ...    10.0   \n",
       "8378   Heating system in the room instructions on ho...     9.2   \n",
       "8379   Entering the hotel involved crossing an open ...     9.2   \n",
       "8380   The hotel is very old Room are out of date an...     4.2   \n",
       "8381    The staff members were very friendly and hel...    10.0   \n",
       "\n",
       "      review_date_numeric  \n",
       "0                20241104  \n",
       "1                20240301  \n",
       "2                20230904  \n",
       "3                20230902  \n",
       "4                20240517  \n",
       "...                   ...  \n",
       "8377             20230430  \n",
       "8378             20240130  \n",
       "8379             20241011  \n",
       "8380             20240901  \n",
       "8381             20241015  \n",
       "\n",
       "[8382 rows x 6 columns]"
      ]
     },
     "execution_count": 5,
     "metadata": {},
     "output_type": "execute_result"
    }
   ],
   "source": [
    "df"
   ]
  },
  {
   "cell_type": "code",
   "execution_count": 6,
   "id": "203f7aa8-3331-4da8-a68b-20a45e275f28",
   "metadata": {},
   "outputs": [],
   "source": [
    "import os\n",
    "import getpass\n",
    "if not os.getenv(\"TOGETHER_API_KEY\"):\n",
    "    os.environ[\"TOGETHER_API_KEY\"] = \"d0138d7876bde3db01c9b87dd4a7fc88b67d130c13d26cb8db4b874cd6feb275\"\n",
    "\n",
    "# Initialize the TogetherEmbeddings model\n",
    "embeddings = TogetherEmbeddings(\n",
    "    model=\"togethercomputer/m2-bert-80M-8k-retrieval\"  # Example model; check docs for Llama-based alternatives\n",
    ")"
   ]
  },
  {
   "cell_type": "code",
   "execution_count": 7,
   "id": "dda0d8d0-5480-4635-b100-90c9a699ac90",
   "metadata": {},
   "outputs": [
    {
     "name": "stdout",
     "output_type": "stream",
     "text": [
      "Requirement already satisfied: pinecone in c:\\users\\hp\\anaconda3\\lib\\site-packages (6.0.1)\n",
      "Requirement already satisfied: certifi>=2019.11.17 in c:\\users\\hp\\anaconda3\\lib\\site-packages (from pinecone) (2024.8.30)\n",
      "Requirement already satisfied: pinecone-plugin-interface<0.0.8,>=0.0.7 in c:\\users\\hp\\anaconda3\\lib\\site-packages (from pinecone) (0.0.7)\n",
      "Requirement already satisfied: python-dateutil>=2.5.3 in c:\\users\\hp\\anaconda3\\lib\\site-packages (from pinecone) (2.9.0.post0)\n",
      "Requirement already satisfied: typing-extensions>=3.7.4 in c:\\users\\hp\\anaconda3\\lib\\site-packages (from pinecone) (4.11.0)\n",
      "Requirement already satisfied: urllib3>=1.26.5 in c:\\users\\hp\\anaconda3\\lib\\site-packages (from pinecone) (2.2.3)\n",
      "Requirement already satisfied: six>=1.5 in c:\\users\\hp\\anaconda3\\lib\\site-packages (from python-dateutil>=2.5.3->pinecone) (1.16.0)\n",
      "Note: you may need to restart the kernel to use updated packages.\n"
     ]
    }
   ],
   "source": [
    "pip install pinecone"
   ]
  },
  {
   "cell_type": "markdown",
   "id": "adf352e3-6d54-450a-a0e0-c7000260be4b",
   "metadata": {},
   "source": [
    "# Create embeddings for all reviews - this will take close to 1.5 - 2 hours"
   ]
  },
  {
   "cell_type": "code",
   "execution_count": 8,
   "id": "d8a198fe-fd5a-4d5b-9934-8c7b1ea8667e",
   "metadata": {
    "scrolled": true
   },
   "outputs": [
    {
     "name": "stdout",
     "output_type": "stream",
     "text": [
      "Processed 128 / 8382 reviews\n",
      "Processed 256 / 8382 reviews\n",
      "Processed 384 / 8382 reviews\n",
      "Processed 512 / 8382 reviews\n",
      "Processed 640 / 8382 reviews\n",
      "Processed 768 / 8382 reviews\n",
      "Processed 896 / 8382 reviews\n",
      "Processed 1024 / 8382 reviews\n",
      "Processed 1152 / 8382 reviews\n",
      "Processed 1280 / 8382 reviews\n",
      "Processed 1408 / 8382 reviews\n",
      "Processed 1536 / 8382 reviews\n",
      "Processed 1664 / 8382 reviews\n",
      "Processed 1792 / 8382 reviews\n",
      "Processed 1920 / 8382 reviews\n",
      "Processed 2048 / 8382 reviews\n",
      "Processed 2176 / 8382 reviews\n",
      "Processed 2304 / 8382 reviews\n",
      "Processed 2432 / 8382 reviews\n",
      "Processed 2560 / 8382 reviews\n",
      "Processed 2688 / 8382 reviews\n",
      "Processed 2816 / 8382 reviews\n",
      "Processed 2944 / 8382 reviews\n",
      "Processed 3072 / 8382 reviews\n",
      "Processed 3200 / 8382 reviews\n",
      "Processed 3328 / 8382 reviews\n",
      "Processed 3456 / 8382 reviews\n",
      "Processed 3584 / 8382 reviews\n",
      "Processed 3712 / 8382 reviews\n",
      "Processed 3840 / 8382 reviews\n",
      "Processed 3968 / 8382 reviews\n",
      "Processed 4096 / 8382 reviews\n",
      "Processed 4224 / 8382 reviews\n",
      "Processed 4352 / 8382 reviews\n",
      "Processed 4480 / 8382 reviews\n",
      "Processed 4608 / 8382 reviews\n",
      "Processed 4736 / 8382 reviews\n",
      "Processed 4864 / 8382 reviews\n",
      "Processed 4992 / 8382 reviews\n",
      "Processed 5120 / 8382 reviews\n",
      "Processed 5248 / 8382 reviews\n",
      "Processed 5376 / 8382 reviews\n",
      "Processed 5504 / 8382 reviews\n",
      "Processed 5632 / 8382 reviews\n",
      "Processed 5760 / 8382 reviews\n",
      "Processed 5888 / 8382 reviews\n",
      "Processed 6016 / 8382 reviews\n",
      "Processed 6144 / 8382 reviews\n",
      "Processed 6272 / 8382 reviews\n",
      "Processed 6400 / 8382 reviews\n",
      "Processed 6528 / 8382 reviews\n",
      "Processed 6656 / 8382 reviews\n",
      "Processed 6784 / 8382 reviews\n",
      "Processed 6912 / 8382 reviews\n",
      "Processed 7040 / 8382 reviews\n",
      "Processed 7168 / 8382 reviews\n",
      "Processed 7296 / 8382 reviews\n",
      "Processed 7424 / 8382 reviews\n",
      "Processed 7552 / 8382 reviews\n",
      "Processed 7680 / 8382 reviews\n",
      "Processed 7808 / 8382 reviews\n",
      "Processed 7936 / 8382 reviews\n",
      "Processed 8064 / 8382 reviews\n",
      "Processed 8192 / 8382 reviews\n",
      "Processed 8320 / 8382 reviews\n",
      "Processed 8382 / 8382 reviews\n"
     ]
    }
   ],
   "source": [
    "reviews = df[\"Review\"].tolist()\n",
    "\n",
    "# Process embeddings in batches\n",
    "embedding_list = []\n",
    "for i in range(0, len(reviews), 128):\n",
    "    batch = reviews[i : i + 128]  # Get batch\n",
    "    batch_embeddings = embeddings.embed_documents(batch)  # Generate embeddings for batch\n",
    "    embedding_list.extend(batch_embeddings)  # Store results\n",
    "    print(f\"Processed {i + len(batch)} / {len(reviews)} reviews\")"
   ]
  },
  {
   "cell_type": "code",
   "execution_count": 9,
   "id": "244ff6f5-a350-473d-8314-63bf51f5cf00",
   "metadata": {},
   "outputs": [],
   "source": [
    "metadata_list = df.apply(lambda row: {\n",
    "    \"customer_id\": int(row[\"customer_id\"]),\n",
    "    \"review_date\": row[\"review_date_numeric\"],\n",
    "    \"Rating\": int(row[\"Rating\"]),\n",
    "    \"review_id\":row['review_id']\n",
    "}, axis=1).tolist()"
   ]
  },
  {
   "cell_type": "code",
   "execution_count": 10,
   "id": "06d75c91-aba0-4dd0-8186-484545aa7d90",
   "metadata": {},
   "outputs": [
    {
     "data": {
      "text/plain": [
       "{'customer_id': 5380, 'review_date': 20241104, 'Rating': 6, 'review_id': 11722}"
      ]
     },
     "execution_count": 10,
     "metadata": {},
     "output_type": "execute_result"
    }
   ],
   "source": [
    "metadata_list[0]"
   ]
  },
  {
   "cell_type": "code",
   "execution_count": 16,
   "id": "14ba5b7d-9f25-4e58-854b-27e5646c5a2e",
   "metadata": {},
   "outputs": [],
   "source": [
    "from pinecone import Pinecone, ServerlessSpec\n",
    "\n",
    "pc = Pinecone(\n",
    "    api_key='pcsk_3Akygq_37NwsGLrrUn2yjAhpNymMFUxqh5ggkET7tZHnmfiuyiwvCFWu5a3gRD3mCvp1KX'\n",
    ")"
   ]
  },
  {
   "cell_type": "markdown",
   "id": "28da6868-8738-4212-b6bb-6ee0068af5e8",
   "metadata": {},
   "source": [
    "# Check whether any indexes already exist"
   ]
  },
  {
   "cell_type": "code",
   "execution_count": 17,
   "id": "7f089a1c-0f94-4bea-b0b3-9f71edf7b32f",
   "metadata": {
    "scrolled": true
   },
   "outputs": [
    {
     "data": {
      "text/plain": [
       "[\n",
       "    {\n",
       "        \"name\": \"hotel-reviews\",\n",
       "        \"metric\": \"cosine\",\n",
       "        \"host\": \"hotel-reviews-t1jsbtd.svc.aped-4627-b74a.pinecone.io\",\n",
       "        \"spec\": {\n",
       "            \"serverless\": {\n",
       "                \"cloud\": \"aws\",\n",
       "                \"region\": \"us-east-1\"\n",
       "            }\n",
       "        },\n",
       "        \"status\": {\n",
       "            \"ready\": true,\n",
       "            \"state\": \"Ready\"\n",
       "        },\n",
       "        \"vector_type\": \"dense\",\n",
       "        \"dimension\": 768,\n",
       "        \"deletion_protection\": \"enabled\",\n",
       "        \"tags\": null\n",
       "    }\n",
       "]"
      ]
     },
     "execution_count": 17,
     "metadata": {},
     "output_type": "execute_result"
    }
   ],
   "source": [
    "pc.list_indexes()"
   ]
  },
  {
   "cell_type": "markdown",
   "id": "51971b6c-e95d-4325-a129-c91346eb4d4b",
   "metadata": {},
   "source": [
    "# create the index"
   ]
  },
  {
   "cell_type": "code",
   "execution_count": 21,
   "id": "e2bb4dd9-e200-457b-9f9e-30dfba660d57",
   "metadata": {},
   "outputs": [
    {
     "name": "stdout",
     "output_type": "stream",
     "text": [
      "['hotel-reviews']\n"
     ]
    }
   ],
   "source": [
    "import pinecone\n",
    "\n",
    "# Create an instance of the Pinecone class\n",
    "pc = pinecone.Pinecone(api_key=\"pcsk_3Akygq_37NwsGLrrUn2yjAhpNymMFUxqh5ggkET7tZHnmfiuyiwvCFWu5a3gRD3mCvp1KX\")\n",
    "\n",
    "# List available indexes\n",
    "print(pc.list_indexes().names())\n"
   ]
  },
  {
   "cell_type": "code",
   "execution_count": null,
   "id": "7d94a158-63fe-47e6-a7b9-e3896699e2a6",
   "metadata": {},
   "outputs": [],
   "source": [
    "pc.create_index(\n",
    "    name='hotel-reviews',\n",
    "    dimension=768,\n",
    "    metric='cosine',\n",
    "    deletion_protection='enabled',\n",
    "    spec=ServerlessSpec(\n",
    "        cloud='aws',\n",
    "        region='us-east-1'\n",
    "    )\n",
    ")"
   ]
  },
  {
   "cell_type": "code",
   "execution_count": 26,
   "id": "a8176725-450d-4c9c-a834-2e6eb136d0c0",
   "metadata": {},
   "outputs": [],
   "source": [
    "index = pc.Index(host=\"hotel-reviews-t1jsbtd.svc.aped-4627-b74a.pinecone.io\")\n"
   ]
  },
  {
   "cell_type": "code",
   "execution_count": 27,
   "id": "3f1b25d4-01f7-4cb2-bee9-d6067d959bc1",
   "metadata": {},
   "outputs": [],
   "source": [
    "vectors = [\n",
    "    (str(i), embedding, metadata_list[i])\n",
    "    for i, embedding in enumerate(embedding_list)\n",
    "]"
   ]
  },
  {
   "cell_type": "markdown",
   "id": "3eb10427-9e6b-40d0-a3f0-90bca485cb0c",
   "metadata": {},
   "source": [
    "# Insert embeddings + metadata into the index"
   ]
  },
  {
   "cell_type": "code",
   "execution_count": 28,
   "id": "7ee4f5f1-ba4e-495b-9ba2-e0cf49f1344a",
   "metadata": {},
   "outputs": [
    {
     "name": "stdout",
     "output_type": "stream",
     "text": [
      "Upserted batch from 0 to 100\n",
      "Upserted batch from 100 to 200\n",
      "Upserted batch from 200 to 300\n",
      "Upserted batch from 300 to 400\n",
      "Upserted batch from 400 to 500\n",
      "Upserted batch from 500 to 600\n",
      "Upserted batch from 600 to 700\n",
      "Upserted batch from 700 to 800\n",
      "Upserted batch from 800 to 900\n",
      "Upserted batch from 900 to 1000\n",
      "Upserted batch from 1000 to 1100\n",
      "Upserted batch from 1100 to 1200\n",
      "Upserted batch from 1200 to 1300\n",
      "Upserted batch from 1300 to 1400\n",
      "Upserted batch from 1400 to 1500\n",
      "Upserted batch from 1500 to 1600\n",
      "Upserted batch from 1600 to 1700\n",
      "Upserted batch from 1700 to 1800\n",
      "Upserted batch from 1800 to 1900\n",
      "Upserted batch from 1900 to 2000\n",
      "Upserted batch from 2000 to 2100\n",
      "Upserted batch from 2100 to 2200\n",
      "Upserted batch from 2200 to 2300\n",
      "Upserted batch from 2300 to 2400\n",
      "Upserted batch from 2400 to 2500\n",
      "Upserted batch from 2500 to 2600\n",
      "Upserted batch from 2600 to 2700\n",
      "Upserted batch from 2700 to 2800\n",
      "Upserted batch from 2800 to 2900\n",
      "Upserted batch from 2900 to 3000\n",
      "Upserted batch from 3000 to 3100\n",
      "Upserted batch from 3100 to 3200\n",
      "Upserted batch from 3200 to 3300\n",
      "Upserted batch from 3300 to 3400\n",
      "Upserted batch from 3400 to 3500\n",
      "Upserted batch from 3500 to 3600\n",
      "Upserted batch from 3600 to 3700\n",
      "Upserted batch from 3700 to 3800\n",
      "Upserted batch from 3800 to 3900\n",
      "Upserted batch from 3900 to 4000\n",
      "Upserted batch from 4000 to 4100\n",
      "Upserted batch from 4100 to 4200\n",
      "Upserted batch from 4200 to 4300\n",
      "Upserted batch from 4300 to 4400\n",
      "Upserted batch from 4400 to 4500\n",
      "Upserted batch from 4500 to 4600\n",
      "Upserted batch from 4600 to 4700\n",
      "Upserted batch from 4700 to 4800\n",
      "Upserted batch from 4800 to 4900\n",
      "Upserted batch from 4900 to 5000\n",
      "Upserted batch from 5000 to 5100\n",
      "Upserted batch from 5100 to 5200\n",
      "Upserted batch from 5200 to 5300\n",
      "Upserted batch from 5300 to 5400\n",
      "Upserted batch from 5400 to 5500\n",
      "Upserted batch from 5500 to 5600\n",
      "Upserted batch from 5600 to 5700\n",
      "Upserted batch from 5700 to 5800\n",
      "Upserted batch from 5800 to 5900\n",
      "Upserted batch from 5900 to 6000\n",
      "Upserted batch from 6000 to 6100\n",
      "Upserted batch from 6100 to 6200\n",
      "Upserted batch from 6200 to 6300\n",
      "Upserted batch from 6300 to 6400\n",
      "Upserted batch from 6400 to 6500\n",
      "Upserted batch from 6500 to 6600\n",
      "Upserted batch from 6600 to 6700\n",
      "Upserted batch from 6700 to 6800\n",
      "Upserted batch from 6800 to 6900\n",
      "Upserted batch from 6900 to 7000\n",
      "Upserted batch from 7000 to 7100\n",
      "Upserted batch from 7100 to 7200\n",
      "Upserted batch from 7200 to 7300\n",
      "Upserted batch from 7300 to 7400\n",
      "Upserted batch from 7400 to 7500\n",
      "Upserted batch from 7500 to 7600\n",
      "Upserted batch from 7600 to 7700\n",
      "Upserted batch from 7700 to 7800\n",
      "Upserted batch from 7800 to 7900\n",
      "Upserted batch from 7900 to 8000\n",
      "Upserted batch from 8000 to 8100\n",
      "Upserted batch from 8100 to 8200\n",
      "Upserted batch from 8200 to 8300\n",
      "Upserted batch from 8300 to 8382\n"
     ]
    }
   ],
   "source": [
    "batch_size = 100  # Adjust this number as needed.\n",
    "\n",
    "for i in range(0, len(embedding_list), batch_size):\n",
    "    batch_vectors = [\n",
    "        (str(i + j), embedding_list[i + j], metadata_list[i + j])\n",
    "        for j in range(min(batch_size, len(embedding_list) - i))\n",
    "    ]\n",
    "    index.upsert(vectors=batch_vectors)\n",
    "    print(f\"Upserted batch from {i} to {i + len(batch_vectors)}\")"
   ]
  },
  {
   "cell_type": "markdown",
   "id": "d6ec4a71-af28-474f-b51c-509dd38e8324",
   "metadata": {},
   "source": [
    "# experiment with below parts"
   ]
  },
  {
   "cell_type": "code",
   "execution_count": 29,
   "id": "4303db9f-a121-4ed8-99b7-015e2d612f9f",
   "metadata": {},
   "outputs": [],
   "source": [
    "query_embedding = embeddings.embed_query(\"What are some of the reviews that mention restaurant, food, lunch, breakfast, dinner\")"
   ]
  },
  {
   "cell_type": "code",
   "execution_count": 38,
   "id": "dbf07717-4240-4ed8-94ae-6a83aeedae05",
   "metadata": {},
   "outputs": [],
   "source": [
    "results = index.query(\n",
    "    vector=query_embedding,\n",
    "    top_k=5,\n",
    "    namespace=\"\",\n",
    "    include_metadata=True,\n",
    "    filter={\n",
    "        \"Rating\": {\"$lte\": 7},\n",
    "        \"review_date\": {\"$gte\": 20240101, \"$lte\": 20240108}\n",
    "    }\n",
    ")"
   ]
  },
  {
   "cell_type": "code",
   "execution_count": 39,
   "id": "7b186c59-2b48-486b-bc81-bb398520345a",
   "metadata": {},
   "outputs": [],
   "source": [
    "matches = results[\"matches\"]\n",
    "\n",
    "# Extract review_ids from the matches (convert them to int if necessary)\n",
    "matched_ids = [int(match[\"metadata\"][\"review_id\"]) for match in matches]"
   ]
  },
  {
   "cell_type": "code",
   "execution_count": 40,
   "id": "a4aef9bb-33be-49bf-92f3-b7412514c5ce",
   "metadata": {},
   "outputs": [
    {
     "data": {
      "text/plain": [
       "[11531, 2910, 6390, 8397, 7555]"
      ]
     },
     "execution_count": 40,
     "metadata": {},
     "output_type": "execute_result"
    }
   ],
   "source": [
    "matched_ids"
   ]
  },
  {
   "cell_type": "code",
   "execution_count": 41,
   "id": "88c95303-869e-4158-8f46-50f91f07f0d0",
   "metadata": {},
   "outputs": [],
   "source": [
    "req_df = df[df[\"review_id\"].isin(matched_ids)]"
   ]
  },
  {
   "cell_type": "code",
   "execution_count": 42,
   "id": "2759e5c9-9e8d-4029-9d6e-afc8e10b5214",
   "metadata": {},
   "outputs": [
    {
     "data": {
      "text/plain": [
       "319      Need wait to sitting for breakfast come so ma...\n",
       "486      Shower taps need descaling horrid smell from ...\n",
       "1034     I booked a plan that included breakfast When ...\n",
       "1622     The people working on the terrace bar are pre...\n",
       "3105     High parking fee When I booked this hotel I r...\n",
       "Name: Review, dtype: object"
      ]
     },
     "execution_count": 42,
     "metadata": {},
     "output_type": "execute_result"
    }
   ],
   "source": [
    "req_df['Review']"
   ]
  },
  {
   "cell_type": "code",
   "execution_count": 43,
   "id": "6dcc3a65-aa69-43ce-bc4a-f05032488309",
   "metadata": {},
   "outputs": [],
   "source": [
    "concatenated_reviews = \" \".join(req_df[\"Review\"].tolist())"
   ]
  },
  {
   "cell_type": "code",
   "execution_count": 44,
   "id": "dea2efd4-f14e-4f6b-af3d-2320a15382c2",
   "metadata": {},
   "outputs": [
    {
     "data": {
      "text/plain": [
       "' Need wait to sitting for breakfast come so many people and not enaugh place So noisily neighbour in room I mean hotel don t have protection for sound Guests in next room speak and we listen all Special in 1am Can t sleep If you want to go for dinner is too far from hotel   Shower taps need descaling horrid smell from drains the new booth seating is so unfriendly the older decor made more sense New menu card room dining not advisable limited choice of average food Tea cakes were cold from fridge so cream in the cakes was There were no more small tasty affordable snacks like the crab cakes of tandoori salmon or tatty etc Pity You lost 15 customers who went to eat elsewhere daily for 3 days   location  I booked a plan that included breakfast When arrived the lady who checked me and my mother in insisted under the supervision and instructions of another member of staff that we booked a plan without meals included even after showing the email from Booking com stating that breakfast was included To avoid any hassles I decided to pay for the additional breakfast cost at that point with the original price I expected to pay when I made the booking in the currency of my credit card not in GBP When I checked out the lady who supervised the junior staff when I checked in told me that they made the mistake of charging me extra for the breakfast and would refund the extra cost She processed the refund in GBP without asking which currency I would like to receive a refund because of their mistake The worst thing was that the supervisor that made the mistake when I checked in and the same person who was responsible for checking me out did not explain the situation nor offered any apologies I was only given an explanation after I sternly asked for one when she asked for my credit card to process the refund I could accept the almost misleadingly spacious image of the room when I made the booking considering the part of country I was visiting I could not accept the irresponsible and unprofessional handling of their mistakes I might not have shown my disagreement at the spot because I had my mother to take care of I would definitely advise against any one staying at such an establishment I would rather book a much cheaper accommodation and willingly accept such unprofessional service    The people working on the terrace bar are pretty slow preparing beverages so you need to be patient awaiting your order especially when you can see quite a lot of people up there We were forced to cancel our order after 40 minutes waiting as we had another appointment planned after   The location of the hotel is just perfect 150m to Diagonal Metro station Rambla is just 300 m away So for our family tour with some sightseeing and enjoying good restaurants this was a perfect choice The hotel is very comfortable and quiet You can have rest on the terrace bar with a breathtaking view of Barcelona especially illuminated Sagrada Familia in the night   High parking fee When I booked this hotel I remember it provide free parking or else why I book this remote area hotel When received confirmation I never check and only when checkin was told I need to pay 17 per night so two night end up I need to pay 35 I don t think I was so careless to miss the parking need to pay statement for others hotel I know which need to pay for parking And I will pay for the parking in advance if needed Very bad experience and I think I will never consider this hotel any more   Clean room'"
      ]
     },
     "execution_count": 44,
     "metadata": {},
     "output_type": "execute_result"
    }
   ],
   "source": [
    "concatenated_reviews"
   ]
  },
  {
   "cell_type": "code",
   "execution_count": 45,
   "id": "a89e76de-311f-468a-b790-525c9821d839",
   "metadata": {},
   "outputs": [
    {
     "name": "stdout",
     "output_type": "stream",
     "text": [
      "Here is a brief summary of the overall sentiment of customers about food and restaurant at the hotel:\n",
      "\n",
      "**Negative comments:**\n",
      "\n",
      "* Limited and unimpressive food options\n",
      "* Noise and lack of sound protection in rooms\n",
      "* Long wait times for food and drinks\n",
      "* Limited and unaffordable snack options\n",
      "* Poor service, including mistakes with orders and billing\n",
      "* Unfriendly new seating area\n",
      "* Limited and average food quality\n",
      "* Tea cakes were cold and cream was spoiled\n",
      "\n",
      "**Positive comments:**\n",
      "\n",
      "* Location was perfect for sightseeing and enjoying good restaurants\n",
      "* Hotel was comfortable and quiet\n",
      "* Terrace bar had a great view of Barcelona\n",
      "* Some guests enjoyed their stay and would recommend the hotel for its location.\n",
      "\n",
      "Overall, it seems that the hotel's restaurant and food services were a major source of frustration for many guests, with complaints about long wait times, poor service, and unimpressive food options. However, some guests appreciated the location and comfortable atmosphere of the hotel.\n"
     ]
    }
   ],
   "source": [
    "from together import Together\n",
    "import os\n",
    "client = Together()\n",
    "response = client.chat.completions.create(\n",
    "    model=\"meta-llama/Llama-Vision-Free\",\n",
    "    messages = [{\"role\": \"user\", \"content\": f\"\"\"Briefly Summarize the overall sentiment of customers about food and restaurant based on these reviews - {\n",
    "    concatenated_reviews}. Dont mention the name of the hotel\"\"\"}]\n",
    ")\n",
    "print(response.choices[0].message.content)\n"
   ]
  },
  {
   "cell_type": "code",
   "execution_count": null,
   "id": "5c4f728f-dcd1-4564-a25f-ab29f2f0c56d",
   "metadata": {},
   "outputs": [],
   "source": []
  },
  {
   "cell_type": "code",
   "execution_count": null,
   "id": "7f7444ef-28f9-4aac-80e1-7de4d8f1f7cc",
   "metadata": {},
   "outputs": [],
   "source": []
  }
 ],
 "metadata": {
  "kernelspec": {
   "display_name": "Python 3 (ipykernel)",
   "language": "python",
   "name": "python3"
  },
  "language_info": {
   "codemirror_mode": {
    "name": "ipython",
    "version": 3
   },
   "file_extension": ".py",
   "mimetype": "text/x-python",
   "name": "python",
   "nbconvert_exporter": "python",
   "pygments_lexer": "ipython3",
   "version": "3.12.7"
  }
 },
 "nbformat": 4,
 "nbformat_minor": 5
}
